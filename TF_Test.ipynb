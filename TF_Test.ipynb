{
  "nbformat": 4,
  "nbformat_minor": 0,
  "metadata": {
    "colab": {
      "name": "TF-Test.ipynb",
      "version": "0.3.2",
      "provenance": [],
      "collapsed_sections": [],
      "include_colab_link": true
    },
    "kernelspec": {
      "name": "python3",
      "display_name": "Python 3"
    }
  },
  "cells": [
    {
      "cell_type": "markdown",
      "metadata": {
        "id": "view-in-github",
        "colab_type": "text"
      },
      "source": [
        "<a href=\"https://colab.research.google.com/github/charlee/tf-test/blob/master/TF_Test.ipynb\" target=\"_parent\"><img src=\"https://colab.research.google.com/assets/colab-badge.svg\" alt=\"Open In Colab\"/></a>"
      ]
    },
    {
      "metadata": {
        "id": "_FCYxvLrjnMG",
        "colab_type": "code",
        "colab": {
          "base_uri": "https://localhost:8080/",
          "height": 101
        },
        "outputId": "937f3c58-16bc-4059-c689-4fd694dca030"
      },
      "cell_type": "code",
      "source": [
        "import tensorflow as tf\n",
        "\n",
        "d = 28 * 28\n",
        "N = 3500\n",
        "\n",
        "X = tf.placeholder(tf.float32, shape=(N, d))\n",
        "y = tf.placeholder(tf.float32, shape=(N,))\n",
        "w = tf.Variable(tf.truncated_normal((d,), stddev=0.1))\n",
        "\n",
        "f = tf.matmul(X, tf.reshape(w, shape=(-1, 1)))\n",
        "y_ = tf.reshape(f, shape=(-1,))\n",
        "\n",
        "loss = tf.losses.sigmoid_cross_entropy(y, y_)\n",
        "\n",
        "print(\"X = \", X.shape)\n",
        "print(\"y = \", y.shape)\n",
        "print(\"w = \", w.shape)\n",
        "print(\"y_ = \", y_.shape)\n",
        "print(\"loss = \", loss.shape)"
      ],
      "execution_count": 1,
      "outputs": [
        {
          "output_type": "stream",
          "text": [
            "X =  (3500, 784)\n",
            "y =  (3500,)\n",
            "w =  (784,)\n",
            "y_ =  (3500,)\n",
            "loss =  ()\n"
          ],
          "name": "stdout"
        }
      ]
    }
  ]
}